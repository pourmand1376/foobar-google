{
 "cells": [
  {
   "cell_type": "code",
   "execution_count": 87,
   "metadata": {},
   "outputs": [],
   "source": [
    "my=[[0, 0, 0, 0, 0, 0], [1, 1, 1, 1, 1, 0], [0, 0, 0, 0, 0, 0], [0, 1, 1, 1, 1, 1], [0, 1, 1, 1, 1, 1], [0, 0, 0, 0, 0, 0]]"
   ]
  },
  {
   "cell_type": "code",
   "execution_count": 88,
   "metadata": {},
   "outputs": [
    {
     "data": {
      "text/plain": [
       "[[inf, inf, inf, inf, inf, inf],\n",
       " [-1, -1, -1, -1, -1, inf],\n",
       " [inf, inf, inf, inf, inf, inf],\n",
       " [inf, -1, -1, -1, -1, -1],\n",
       " [inf, -1, -1, -1, -1, -1],\n",
       " [inf, inf, inf, inf, inf, inf]]"
      ]
     },
     "execution_count": 88,
     "metadata": {},
     "output_type": "execute_result"
    }
   ],
   "source": [
    "height = len(my) # first dimension\n",
    "width = 0 # second dimension\n",
    "for list_ in my:\n",
    "    if width ==0 :\n",
    "        width = len(list_)\n",
    "    for i,item in enumerate(list_):\n",
    "        if item == 1:\n",
    "          list_[i] = -1  \n",
    "        elif item == 0:\n",
    "          list_[i] = float('inf')\n",
    "my"
   ]
  },
  {
   "cell_type": "code",
   "execution_count": 89,
   "metadata": {},
   "outputs": [
    {
     "data": {
      "text/plain": [
       "(6, 6)"
      ]
     },
     "execution_count": 89,
     "metadata": {},
     "output_type": "execute_result"
    }
   ],
   "source": [
    "width, height"
   ]
  },
  {
   "cell_type": "code",
   "execution_count": 90,
   "metadata": {},
   "outputs": [],
   "source": [
    "def check_point(i,j,height, width):\n",
    "    # points should not be outside the bounds of the grid\n",
    "    return 0 <= i < height and 0<= j < width\n",
    "def get_nearby_points(i,j,height, width):\n",
    "    points = []\n",
    "    if check_point(i+1,j,height,width):\n",
    "        points.append((i+1,j))\n",
    "    if check_point(i-1,j,height,width):\n",
    "        points.append((i-1,j))\n",
    "    if check_point(i, j+1, height,width):\n",
    "        points.append((i, j+1))\n",
    "    if check_point(i, j-1, height, width):\n",
    "        points.append((i, j-1))  \n",
    "    return points"
   ]
  },
  {
   "cell_type": "code",
   "execution_count": 107,
   "metadata": {},
   "outputs": [],
   "source": [
    "def update(array, update_point):\n",
    "    while len(update_point) > 0:\n",
    "        i,j=update_point.pop()\n",
    "        for from_i, from_j in get_nearby_points(i,j,height=height, width=width):\n",
    "            if array[from_i][from_j] == -1:\n",
    "                continue\n",
    "            if my[from_i][from_j] + 1 < array[i][j]:\n",
    "                array[i][j] = array[from_i][from_j] + 1\n",
    "                update_point.extend(get_nearby_points(i,j,height=height, width=width))\n",
    "    \n",
    "                "
   ]
  },
  {
   "cell_type": "code",
   "execution_count": 108,
   "metadata": {},
   "outputs": [
    {
     "data": {
      "text/plain": [
       "[[21, 20, 19, 18, 17, 16],\n",
       " [-1, -1, -1, -1, -1, 15],\n",
       " [9, 10, 11, 12, 13, 14],\n",
       " [8, -1, -1, -1, -1, -1],\n",
       " [7, -1, -1, -1, -1, -1],\n",
       " [6, 5, 4, 3, 2, 1]]"
      ]
     },
     "execution_count": 108,
     "metadata": {},
     "output_type": "execute_result"
    }
   ],
   "source": [
    "my[height-1][width-1] = 1\n",
    "update_points=get_nearby_points(height-1,width-1,height,width)\n",
    "update(my, update_points)\n",
    "my"
   ]
  },
  {
   "cell_type": "code",
   "execution_count": 109,
   "metadata": {},
   "outputs": [
    {
     "data": {
      "text/plain": [
       "21"
      ]
     },
     "execution_count": 109,
     "metadata": {},
     "output_type": "execute_result"
    }
   ],
   "source": [
    "my[0][0]"
   ]
  },
  {
   "cell_type": "code",
   "execution_count": 110,
   "metadata": {},
   "outputs": [],
   "source": [
    "min_array_value = float('inf')\n",
    "min_array = None\n",
    "for i,list_ in enumerate(my):\n",
    "    for j,item in enumerate(list_):\n",
    "        if item == -1:\n",
    "            copy = [[y for y in x] for x in my]\n",
    "            min_value = float('inf')\n",
    "            for i_,j_ in get_nearby_points(i,j,height,width):\n",
    "                if my[i_][j_] == -1:\n",
    "                    continue\n",
    "                min_value = min(copy[i_][j_] + 1, min_value)\n",
    "            copy[i][j] = min_value\n",
    "            update_points=get_nearby_points(i,j,height,width)\n",
    "            update(copy, update_points)\n",
    "            if copy[0][0]< min_array_value:\n",
    "                min_array_value = copy[0][0]\n",
    "                min_array = copy"
   ]
  },
  {
   "cell_type": "code",
   "execution_count": 111,
   "metadata": {},
   "outputs": [
    {
     "data": {
      "text/plain": [
       "(11,\n",
       " [[11, 20, 19, 18, 17, 16],\n",
       "  [10, -1, -1, -1, -1, 15],\n",
       "  [11, 10, 11, 12, 13, 14],\n",
       "  [8, -1, -1, -1, -1, -1],\n",
       "  [7, -1, -1, -1, -1, -1],\n",
       "  [6, 5, 4, 3, 2, 1]])"
      ]
     },
     "execution_count": 111,
     "metadata": {},
     "output_type": "execute_result"
    }
   ],
   "source": [
    "min_array_value,min_array"
   ]
  },
  {
   "cell_type": "code",
   "execution_count": 37,
   "metadata": {},
   "outputs": [],
   "source": [
    "class Maze:\n",
    "    def __init__(self, array):\n",
    "        self.array = array\n",
    "        self.height = len(array) # first dimension\n",
    "        self.width = len(array[0]) # second dimension\n",
    "        \n",
    "    def preprocess_array(self):\n",
    "        for list_ in self.array:\n",
    "            for i,item in enumerate(list_):\n",
    "                if item == 1:\n",
    "                    list_[i] = -1  \n",
    "                elif item == 0:\n",
    "                    list_[i] = float('inf')\n",
    "\n",
    "    def _check_point(self,i,j):\n",
    "        # points should not be outside the bounds of the grid\n",
    "        return 0 <= i < self.height and 0 <= j < self.width \\\n",
    "            and self.array[i][j] != -1\n",
    "            \n",
    "    def _get_nearby_points(self,i,j):\n",
    "        points = []\n",
    "        if self._check_point(i+1,j):\n",
    "            points.append((i+1,j))\n",
    "        if self._check_point(i-1,j):\n",
    "            points.append((i-1,j))\n",
    "        if self._check_point(i, j+1):\n",
    "            points.append((i, j+1))\n",
    "        if self._check_point(i, j-1):\n",
    "            points.append((i, j-1))  \n",
    "        return points\n",
    "    \n",
    "    def _update_single_point(self, i,j):\n",
    "        \"\"\"\n",
    "        This function updates a single point value based on its neighbours\n",
    "        This is useful for removing a wall\n",
    "        \"\"\"\n",
    "        min_value = float('inf')\n",
    "        for i_,j_ in self._get_nearby_points(i,j):\n",
    "            min_value = min(self.array[i_][j_] + 1, min_value)\n",
    "        return min_value\n",
    "    \n",
    "    def _update(self, update_queue):\n",
    "        while len(update_queue) > 0:\n",
    "            i,j=update_queue.pop()\n",
    "            for from_i, from_j in self._get_nearby_points(i,j):\n",
    "                if self.array[from_i][from_j] + 1 < self.array[i][j]:\n",
    "                    self.array[i][j] = self.array[from_i][from_j] + 1\n",
    "                    update_queue.extend(self._get_nearby_points(i,j))\n",
    "        \n",
    "    \n",
    "    def _set_value(self,i,j,value):\n",
    "        if value is None:\n",
    "            value = self._update_single_point(i,j)\n",
    "        self.array[i][j] = value\n",
    "        update_points=self._get_nearby_points(i,j)\n",
    "        self._update(update_points)\n",
    "    \n",
    "    def analyze_without_replacement(self):\n",
    "        self._set_value(self.height-1, self.width-1, 1)\n",
    "        return self.array\n",
    "    \n",
    "    def analyze_with_replacement(self):\n",
    "        min_array_value = self.array[0][0]\n",
    "        min_array = self.array\n",
    "        for i,list_ in enumerate(self.array):\n",
    "            for j,item in enumerate(list_):\n",
    "                if item == -1:\n",
    "                    copy = [[y for y in x] for x in self.array]\n",
    "                    new_maze=Maze(copy)\n",
    "                    new_maze._set_value(i,j,None)\n",
    "                    if new_maze.array[0][0] < min_array_value:\n",
    "                        min_array_value = new_maze.array[0][0] \n",
    "                        min_array = new_maze.array\n",
    "                        \n",
    "        return min_array_value, min_array"
   ]
  },
  {
   "cell_type": "code",
   "execution_count": 38,
   "metadata": {},
   "outputs": [
    {
     "data": {
      "text/plain": [
       "(11,\n",
       " [[11, 12, 13, 14, 15, 16],\n",
       "  [10, -1, -1, -1, -1, 15],\n",
       "  [9, 10, 11, 12, 13, 14],\n",
       "  [8, -1, -1, -1, -1, -1],\n",
       "  [7, -1, -1, -1, -1, -1],\n",
       "  [6, 5, 4, 3, 2, 1]])"
      ]
     },
     "execution_count": 38,
     "metadata": {},
     "output_type": "execute_result"
    }
   ],
   "source": [
    "my_maze=[[0, 0, 0, 0, 0, 0], [1, 1, 1, 1, 1, 0], [0, 0, 0, 0, 0, 0], [0, 1, 1, 1, 1, 1], [0, 1, 1, 1, 1, 1], [0, 0, 0, 0, 0, 0]]\n",
    "maze=Maze(my_maze)\n",
    "maze.preprocess_array()\n",
    "maze.analyze_without_replacement()\n",
    "maze.analyze_with_replacement()"
   ]
  },
  {
   "cell_type": "code",
   "execution_count": 39,
   "metadata": {},
   "outputs": [
    {
     "data": {
      "text/plain": [
       "(7, [[7, -1, -1, inf], [6, 5, 4, -1], [-1, -1, 3, 2], [-1, -1, -1, 1]])"
      ]
     },
     "execution_count": 39,
     "metadata": {},
     "output_type": "execute_result"
    }
   ],
   "source": [
    "my_maze=[[0, 1, 1, 0], [0, 0, 0, 1], [1, 1, 0, 0], [1, 1, 1, 0]]\n",
    "maze=Maze(my_maze)\n",
    "maze.preprocess_array()\n",
    "maze.analyze_without_replacement()\n",
    "maze.analyze_with_replacement()"
   ]
  },
  {
   "cell_type": "code",
   "execution_count": 32,
   "metadata": {},
   "outputs": [
    {
     "data": {
      "text/plain": [
       "[[7, 6, -1, inf], [6, 5, 4, -1], [-1, -1, 3, 2], [-1, -1, -1, 1]]"
      ]
     },
     "execution_count": 32,
     "metadata": {},
     "output_type": "execute_result"
    }
   ],
   "source": []
  },
  {
   "cell_type": "code",
   "execution_count": null,
   "metadata": {},
   "outputs": [],
   "source": []
  }
 ],
 "metadata": {
  "kernelspec": {
   "display_name": "yolov5",
   "language": "python",
   "name": "yolov5"
  },
  "language_info": {
   "codemirror_mode": {
    "name": "ipython",
    "version": 3
   },
   "file_extension": ".py",
   "mimetype": "text/x-python",
   "name": "python",
   "nbconvert_exporter": "python",
   "pygments_lexer": "ipython3",
   "version": "3.10.9"
  },
  "orig_nbformat": 4
 },
 "nbformat": 4,
 "nbformat_minor": 2
}
