{
 "cells": [
  {
   "cell_type": "code",
   "execution_count": 1,
   "metadata": {},
   "outputs": [],
   "source": [
    "#Input:solution.solution(\">----<\")Output: 2\n",
    "\n",
    "#Input:solution.solution(\"<<>><\")Output: 4"
   ]
  },
  {
   "cell_type": "code",
   "execution_count": 1,
   "metadata": {},
   "outputs": [],
   "source": [
    "test = \">----<\" # 2\n",
    "test2 = \"<<>><\" # 4\n",
    "test3 =\"--->-><-><-->-\" # 10"
   ]
  },
  {
   "cell_type": "code",
   "execution_count": 8,
   "metadata": {},
   "outputs": [
    {
     "data": {
      "text/plain": [
       "2"
      ]
     },
     "execution_count": 8,
     "metadata": {},
     "output_type": "execute_result"
    }
   ],
   "source": [
    "cleaned_str=test.replace('-','')\n",
    "i = len(cleaned_str) - 1\n",
    "count_array = []\n",
    "previous_count = 0\n",
    "while i >= 0:\n",
    "    if cleaned_str[i] == '<':\n",
    "        previous_count = previous_count + 1\n",
    "    count_array.insert(0, previous_count)\n",
    "    i = i - 1\n",
    "\n",
    "final_count = 0\n",
    "for i,char in enumerate(cleaned_str):\n",
    "    if char == '>':\n",
    "        final_count = final_count + count_array[i]\n",
    "final_count*2"
   ]
  },
  {
   "cell_type": "code",
   "execution_count": 9,
   "metadata": {},
   "outputs": [],
   "source": [
    "def solution(s):\n",
    "    cleaned_str=s.replace('-','')\n",
    "    i = len(cleaned_str) - 1\n",
    "    count_array = []\n",
    "    previous_count = 0\n",
    "    while i >= 0:\n",
    "        if cleaned_str[i] == '<':\n",
    "            previous_count = previous_count + 1\n",
    "        count_array.insert(0, previous_count)\n",
    "        i = i - 1\n",
    "\n",
    "    final_count = 0\n",
    "    for i,char in enumerate(cleaned_str):\n",
    "        if char == '>':\n",
    "            final_count = final_count + count_array[i]\n",
    "    return final_count*2"
   ]
  },
  {
   "cell_type": "code",
   "execution_count": 18,
   "metadata": {},
   "outputs": [
    {
     "data": {
      "text/plain": [
       "4"
      ]
     },
     "execution_count": 18,
     "metadata": {},
     "output_type": "execute_result"
    }
   ],
   "source": [
    "solution('>>--<-->>>')"
   ]
  },
  {
   "cell_type": "code",
   "execution_count": null,
   "metadata": {},
   "outputs": [],
   "source": []
  }
 ],
 "metadata": {
  "kernelspec": {
   "display_name": "yolov5",
   "language": "python",
   "name": "yolov5"
  },
  "language_info": {
   "codemirror_mode": {
    "name": "ipython",
    "version": 3
   },
   "file_extension": ".py",
   "mimetype": "text/x-python",
   "name": "python",
   "nbconvert_exporter": "python",
   "pygments_lexer": "ipython3",
   "version": "3.10.9"
  },
  "orig_nbformat": 4
 },
 "nbformat": 4,
 "nbformat_minor": 2
}
